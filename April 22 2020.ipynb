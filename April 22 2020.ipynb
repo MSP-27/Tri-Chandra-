{
 "cells": [
  {
   "cell_type": "code",
   "execution_count": 5,
   "metadata": {
    "collapsed": false
   },
   "outputs": [
    {
     "name": "stdout",
     "output_type": "stream",
     "text": [
      "first3.4\n",
      "second4.4\n",
      "6.8\n"
     ]
    }
   ],
   "source": [
    "n1=input(\"first\")\n",
    "n2=input(\"second\")\n",
    "result=n1+n1\n",
    "print(result)"
   ]
  },
  {
   "cell_type": "code",
   "execution_count": 7,
   "metadata": {
    "collapsed": false
   },
   "outputs": [
    {
     "name": "stdout",
     "output_type": "stream",
     "text": [
      "first4\n",
      "second3\n",
      "1\n"
     ]
    }
   ],
   "source": [
    "n1=input(\"first\")\n",
    "n2=input(\"second\")\n",
    "result=n1-n2\n",
    "print(result)"
   ]
  },
  {
   "cell_type": "code",
   "execution_count": 8,
   "metadata": {
    "collapsed": false
   },
   "outputs": [
    {
     "name": "stdout",
     "output_type": "stream",
     "text": [
      "first4.4\n",
      "second2.2\n",
      "6.6\n"
     ]
    }
   ],
   "source": [
    "n1=input(\"first\")\n",
    "n2=input(\"second\")\n",
    "result=n1+n2\n",
    "print(result)"
   ]
  },
  {
   "cell_type": "code",
   "execution_count": null,
   "metadata": {
    "collapsed": true
   },
   "outputs": [],
   "source": [
    "color=input(\"Enter a color\")\n",
    "plural_noun=input(\"Enter a plural  noun\")\n",
    "celebrity=input(\"Enter a celebrity\")\n",
    "print(\"Rose are {color}\")\n",
    "print(\"{plural noun} are blue\")\n",
    "print(\"I love {celebrity}\")"
   ]
  },
  {
   "cell_type": "code",
   "execution_count": null,
   "metadata": {
    "collapsed": true
   },
   "outputs": [],
   "source": []
  }
 ],
 "metadata": {
  "kernelspec": {
   "display_name": "Python 2",
   "language": "python",
   "name": "python2"
  },
  "language_info": {
   "codemirror_mode": {
    "name": "ipython",
    "version": 2
   },
   "file_extension": ".py",
   "mimetype": "text/x-python",
   "name": "python",
   "nbconvert_exporter": "python",
   "pygments_lexer": "ipython2",
   "version": "2.7.15"
  }
 },
 "nbformat": 4,
 "nbformat_minor": 0
}
