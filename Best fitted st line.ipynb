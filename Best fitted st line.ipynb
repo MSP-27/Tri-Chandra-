{
 "cells": [
  {
   "cell_type": "code",
   "execution_count": 1,
   "metadata": {},
   "outputs": [],
   "source": [
    "import numpy as np\n",
    "from IPython import display\n",
    "import matplotlib.pyplot as plt\n",
    "import pandas as pd\n",
    "from scipy.optimize import minimize\n",
    "%matplotlib inline"
   ]
  },
  {
   "cell_type": "code",
   "execution_count": 2,
   "metadata": {},
   "outputs": [],
   "source": [
    "rnd=np.random.RandomState(seed=42)"
   ]
  },
  {
   "cell_type": "code",
   "execution_count": 3,
   "metadata": {},
   "outputs": [
    {
     "name": "stdout",
     "output_type": "stream",
     "text": [
      "[0.74908024 1.90142861 1.46398788 1.19731697 0.31203728 0.31198904\n",
      " 0.11616722 1.73235229 1.20223002 1.41614516 0.04116899 1.9398197\n",
      " 1.66488528 0.42467822 0.36364993 0.36680902]\n"
     ]
    }
   ],
   "source": [
    "n_data=16\n",
    "a_true=1.255\n",
    "b_true=4.507\n",
    "x=rnd.uniform(0,2.0,n_data)\n",
    "print(x)"
   ]
  },
  {
   "cell_type": "code",
   "execution_count": 4,
   "metadata": {},
   "outputs": [],
   "source": [
    "x.sort()"
   ]
  },
  {
   "cell_type": "code",
   "execution_count": 21,
   "metadata": {},
   "outputs": [],
   "source": [
    "y=a_true*x+b_true\n",
    "y_err=5*rnd.uniform(0.1,0.2,size=n_data)\n",
    "def line_model(pars,x):\n",
    "    return pars[0]*np.array(x)+pars[1]\n",
    "def weighted_absolute_deviation(pars,x,y,y_err):\n",
    "    chi=(y-line_model(pars,x))/y_err\n",
    "    return np.sum(np.abs(chi))\n",
    "def weighted_square_deviation(pars,x,y,y_err):\n",
    "    chi=(y-line_model(pars,x))/y_err\n",
    "    return np.sum(np.abs(chi**2))"
   ]
  },
  {
   "cell_type": "code",
   "execution_count": 25,
   "metadata": {},
   "outputs": [],
   "source": [
    "x0 = [1., 1.] # starting guess for the optimizer \n",
    "\n",
    "result_abs = minimize(weighted_absolute_deviation, x0=x0,args=(x, y, y_err),method='BFGS') \n",
    "\n",
    "result_sq = minimize(weighted_square_deviation, x0=x0,args=(x, y, y_err),method='BFGS')\n",
    "best_pars_abs = result_abs.x\n",
    "best_pars_sq = result_sq.x"
   ]
  },
  {
   "cell_type": "code",
   "execution_count": 27,
   "metadata": {},
   "outputs": [
    {
     "data": {
      "image/png": "[encoded data removed]",
      "text/plain": [
       "<Figure size 432x288 with 1 Axes>"
      ]
     },
     "metadata": {
      "needs_background": "light"
     },
     "output_type": "display_data"
    }
   ],
   "source": [
    "datastyle=dict(linestyle='none',marker='o',color='r',ecolor='k')\n",
    "x_grid=np.linspace(x.min()-.1,x.max()+.1,128)\n",
    "plt.errorbar(x,y,y_err,linestyle='none',marker='o',ecolor='#666666')\n",
    "plt.plot(x_grid, line_model(best_pars_abs, x_grid),marker='', linestyle='-', label='absolute deviation')\n",
    "plt.plot(x_grid,line_model(best_pars_abs,x_grid),marker='',linestyle='-',label='square deviation')\n",
    "plt.xlabel('$x$')\n",
    "plt.ylabel('$y$')\n",
    "plt.legend(loc='best')\n",
    "plt.tight_layout()"
   ]
  },
  {
   "cell_type": "code",
   "execution_count": null,
   "metadata": {},
   "outputs": [],
   "source": []
  }
 ],
 "metadata": {
  "kernelspec": {
   "display_name": "Python 3",
   "language": "python",
   "name": "python3"
  },
  "language_info": {
   "codemirror_mode": {
    "name": "ipython",
    "version": 3
   },
   "file_extension": ".py",
   "mimetype": "text/x-python",
   "name": "python",
   "nbconvert_exporter": "python",
   "pygments_lexer": "ipython3",
   "version": "3.7.6"
  }
 },
 "nbformat": 4,
 "nbformat_minor": 4
}
